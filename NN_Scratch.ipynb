{
 "cells": [
  {
   "cell_type": "code",
   "execution_count": 135,
   "metadata": {},
   "outputs": [],
   "source": [
    "import pandas as pd\n",
    "import numpy as np\n",
    "import math\n",
    "from matplotlib import pyplot as plt"
   ]
  },
  {
   "cell_type": "code",
   "execution_count": 136,
   "metadata": {},
   "outputs": [],
   "source": [
    "data = pd.read_csv(\"/Users/atharva/Desktop/Python Projects  Personal/MNIST Neural Net from Scratch Using Numpy/Data/digit-recognizer/train.csv\")"
   ]
  },
  {
   "cell_type": "code",
   "execution_count": 137,
   "metadata": {},
   "outputs": [
    {
     "data": {
      "text/html": [
       "<div>\n",
       "<style scoped>\n",
       "    .dataframe tbody tr th:only-of-type {\n",
       "        vertical-align: middle;\n",
       "    }\n",
       "\n",
       "    .dataframe tbody tr th {\n",
       "        vertical-align: top;\n",
       "    }\n",
       "\n",
       "    .dataframe thead th {\n",
       "        text-align: right;\n",
       "    }\n",
       "</style>\n",
       "<table border=\"1\" class=\"dataframe\">\n",
       "  <thead>\n",
       "    <tr style=\"text-align: right;\">\n",
       "      <th></th>\n",
       "      <th>label</th>\n",
       "      <th>pixel0</th>\n",
       "      <th>pixel1</th>\n",
       "      <th>pixel2</th>\n",
       "      <th>pixel3</th>\n",
       "      <th>pixel4</th>\n",
       "      <th>pixel5</th>\n",
       "      <th>pixel6</th>\n",
       "      <th>pixel7</th>\n",
       "      <th>pixel8</th>\n",
       "      <th>...</th>\n",
       "      <th>pixel774</th>\n",
       "      <th>pixel775</th>\n",
       "      <th>pixel776</th>\n",
       "      <th>pixel777</th>\n",
       "      <th>pixel778</th>\n",
       "      <th>pixel779</th>\n",
       "      <th>pixel780</th>\n",
       "      <th>pixel781</th>\n",
       "      <th>pixel782</th>\n",
       "      <th>pixel783</th>\n",
       "    </tr>\n",
       "  </thead>\n",
       "  <tbody>\n",
       "    <tr>\n",
       "      <th>0</th>\n",
       "      <td>1</td>\n",
       "      <td>0</td>\n",
       "      <td>0</td>\n",
       "      <td>0</td>\n",
       "      <td>0</td>\n",
       "      <td>0</td>\n",
       "      <td>0</td>\n",
       "      <td>0</td>\n",
       "      <td>0</td>\n",
       "      <td>0</td>\n",
       "      <td>...</td>\n",
       "      <td>0</td>\n",
       "      <td>0</td>\n",
       "      <td>0</td>\n",
       "      <td>0</td>\n",
       "      <td>0</td>\n",
       "      <td>0</td>\n",
       "      <td>0</td>\n",
       "      <td>0</td>\n",
       "      <td>0</td>\n",
       "      <td>0</td>\n",
       "    </tr>\n",
       "    <tr>\n",
       "      <th>1</th>\n",
       "      <td>0</td>\n",
       "      <td>0</td>\n",
       "      <td>0</td>\n",
       "      <td>0</td>\n",
       "      <td>0</td>\n",
       "      <td>0</td>\n",
       "      <td>0</td>\n",
       "      <td>0</td>\n",
       "      <td>0</td>\n",
       "      <td>0</td>\n",
       "      <td>...</td>\n",
       "      <td>0</td>\n",
       "      <td>0</td>\n",
       "      <td>0</td>\n",
       "      <td>0</td>\n",
       "      <td>0</td>\n",
       "      <td>0</td>\n",
       "      <td>0</td>\n",
       "      <td>0</td>\n",
       "      <td>0</td>\n",
       "      <td>0</td>\n",
       "    </tr>\n",
       "    <tr>\n",
       "      <th>2</th>\n",
       "      <td>1</td>\n",
       "      <td>0</td>\n",
       "      <td>0</td>\n",
       "      <td>0</td>\n",
       "      <td>0</td>\n",
       "      <td>0</td>\n",
       "      <td>0</td>\n",
       "      <td>0</td>\n",
       "      <td>0</td>\n",
       "      <td>0</td>\n",
       "      <td>...</td>\n",
       "      <td>0</td>\n",
       "      <td>0</td>\n",
       "      <td>0</td>\n",
       "      <td>0</td>\n",
       "      <td>0</td>\n",
       "      <td>0</td>\n",
       "      <td>0</td>\n",
       "      <td>0</td>\n",
       "      <td>0</td>\n",
       "      <td>0</td>\n",
       "    </tr>\n",
       "    <tr>\n",
       "      <th>3</th>\n",
       "      <td>4</td>\n",
       "      <td>0</td>\n",
       "      <td>0</td>\n",
       "      <td>0</td>\n",
       "      <td>0</td>\n",
       "      <td>0</td>\n",
       "      <td>0</td>\n",
       "      <td>0</td>\n",
       "      <td>0</td>\n",
       "      <td>0</td>\n",
       "      <td>...</td>\n",
       "      <td>0</td>\n",
       "      <td>0</td>\n",
       "      <td>0</td>\n",
       "      <td>0</td>\n",
       "      <td>0</td>\n",
       "      <td>0</td>\n",
       "      <td>0</td>\n",
       "      <td>0</td>\n",
       "      <td>0</td>\n",
       "      <td>0</td>\n",
       "    </tr>\n",
       "    <tr>\n",
       "      <th>4</th>\n",
       "      <td>0</td>\n",
       "      <td>0</td>\n",
       "      <td>0</td>\n",
       "      <td>0</td>\n",
       "      <td>0</td>\n",
       "      <td>0</td>\n",
       "      <td>0</td>\n",
       "      <td>0</td>\n",
       "      <td>0</td>\n",
       "      <td>0</td>\n",
       "      <td>...</td>\n",
       "      <td>0</td>\n",
       "      <td>0</td>\n",
       "      <td>0</td>\n",
       "      <td>0</td>\n",
       "      <td>0</td>\n",
       "      <td>0</td>\n",
       "      <td>0</td>\n",
       "      <td>0</td>\n",
       "      <td>0</td>\n",
       "      <td>0</td>\n",
       "    </tr>\n",
       "  </tbody>\n",
       "</table>\n",
       "<p>5 rows × 785 columns</p>\n",
       "</div>"
      ],
      "text/plain": [
       "   label  pixel0  pixel1  pixel2  pixel3  pixel4  pixel5  pixel6  pixel7  \\\n",
       "0      1       0       0       0       0       0       0       0       0   \n",
       "1      0       0       0       0       0       0       0       0       0   \n",
       "2      1       0       0       0       0       0       0       0       0   \n",
       "3      4       0       0       0       0       0       0       0       0   \n",
       "4      0       0       0       0       0       0       0       0       0   \n",
       "\n",
       "   pixel8  ...  pixel774  pixel775  pixel776  pixel777  pixel778  pixel779  \\\n",
       "0       0  ...         0         0         0         0         0         0   \n",
       "1       0  ...         0         0         0         0         0         0   \n",
       "2       0  ...         0         0         0         0         0         0   \n",
       "3       0  ...         0         0         0         0         0         0   \n",
       "4       0  ...         0         0         0         0         0         0   \n",
       "\n",
       "   pixel780  pixel781  pixel782  pixel783  \n",
       "0         0         0         0         0  \n",
       "1         0         0         0         0  \n",
       "2         0         0         0         0  \n",
       "3         0         0         0         0  \n",
       "4         0         0         0         0  \n",
       "\n",
       "[5 rows x 785 columns]"
      ]
     },
     "execution_count": 137,
     "metadata": {},
     "output_type": "execute_result"
    }
   ],
   "source": [
    "data.head()"
   ]
  },
  {
   "cell_type": "code",
   "execution_count": 138,
   "metadata": {},
   "outputs": [],
   "source": [
    "data = np.array(data)\n",
    "m , n = data.shape\n",
    "np.random.shuffle(data)"
   ]
  },
  {
   "cell_type": "code",
   "execution_count": 139,
   "metadata": {},
   "outputs": [],
   "source": [
    "data_dev = data[0:1000].T\n",
    "\n",
    "X_dev = data_dev[1:n]\n",
    "X_dev = X_dev/255\n",
    "Y_dev = data_dev[0]\n",
    "\n",
    "data_train = data[1000:m].T\n",
    "\n",
    "X_train = data_train[1:n]\n",
    "X_train = X_train/255\n",
    "Y_train = data_train[0]\n",
    "\n",
    "_,m_train = X_train.shape"
   ]
  },
  {
   "cell_type": "code",
   "execution_count": 140,
   "metadata": {},
   "outputs": [
    {
     "name": "stdout",
     "output_type": "stream",
     "text": [
      "y_train is : [8 6 4 ... 5 0 5] \n",
      "and \n",
      "shape of y_train is : (41000,)\n"
     ]
    }
   ],
   "source": [
    "print(f'y_train is : {Y_train} \\nand \\nshape of y_train is : {Y_train.shape}')"
   ]
  },
  {
   "cell_type": "code",
   "execution_count": 141,
   "metadata": {},
   "outputs": [
    {
     "name": "stdout",
     "output_type": "stream",
     "text": [
      "X_train is : [[0. 0. 0. ... 0. 0. 0.]\n",
      " [0. 0. 0. ... 0. 0. 0.]\n",
      " [0. 0. 0. ... 0. 0. 0.]\n",
      " ...\n",
      " [0. 0. 0. ... 0. 0. 0.]\n",
      " [0. 0. 0. ... 0. 0. 0.]\n",
      " [0. 0. 0. ... 0. 0. 0.]] \n",
      "and \n",
      "shape of X_train is : (784, 41000)\n"
     ]
    }
   ],
   "source": [
    "print(f'X_train is : {X_train} \\nand \\nshape of X_train is : {X_train[0:n].shape}')"
   ]
  },
  {
   "cell_type": "code",
   "execution_count": 162,
   "metadata": {},
   "outputs": [],
   "source": [
    "\n",
    "def init_params():\n",
    "    W1 = np.random.rand(10, 784) - 0.5  #use rand() instead of randn() grad was not descending due to improper initialisation\n",
    "    b1 = np.random.rand(10, 1) - 0.5\n",
    "    W2 = np.random.rand(10, 10) - 0.5\n",
    "    b2 = np.random.rand(10, 1) - 0.5\n",
    "    return W1, b1, W2, b2\n",
    "\n",
    "def update_parameters(W1, b1, W2, b2, dW1, db1, dW2, db2, alpha):\n",
    "    W1 = W1 - alpha*dW1\n",
    "    b1 = b1 - alpha*db1\n",
    "    W2 = W2 - alpha*dW2\n",
    "    b2 = b2 - alpha*db2\n",
    "    \n",
    "    return W1,b1,W2,b2\n",
    "    "
   ]
  },
  {
   "cell_type": "code",
   "execution_count": 163,
   "metadata": {},
   "outputs": [],
   "source": [
    "def ReLU(Z):\n",
    "    return np.maximum(Z,0)\n",
    "\n",
    "def deriv_ReLU(Z):\n",
    "    return Z > 0"
   ]
  },
  {
   "cell_type": "code",
   "execution_count": 164,
   "metadata": {},
   "outputs": [],
   "source": [
    "def SoftMax(Z):\n",
    "    A = np.exp(Z) / sum(np.exp(Z))\n",
    "    return A"
   ]
  },
  {
   "cell_type": "code",
   "execution_count": 165,
   "metadata": {},
   "outputs": [],
   "source": [
    "def one_hot_encode(Y):\n",
    "    one_hot_y = np.zeros((Y.size, Y.max() + 1))\n",
    "    one_hot_y[np.arange(Y.size), Y] = 1 \n",
    "    one_hot_y = one_hot_y.T\n",
    "    return one_hot_y"
   ]
  },
  {
   "cell_type": "code",
   "execution_count": 166,
   "metadata": {},
   "outputs": [],
   "source": [
    "def forward_pass(W1,b1,W2,b2,X):\n",
    "    Z1 = W1.dot(X) + b1\n",
    "    A1 = ReLU(Z1) \n",
    "    Z2 = W2.dot(A1) + b2\n",
    "    A2 = SoftMax(Z2)\n",
    "    return Z1, A1, Z2, A2"
   ]
  },
  {
   "cell_type": "code",
   "execution_count": 167,
   "metadata": {},
   "outputs": [],
   "source": [
    "def back_prop(Z1, A1, Z2, A2, W1, W2, X, Y):\n",
    "    one_hot_y = one_hot_encode(Y)    \n",
    "    dZ2 = A2 - one_hot_y\n",
    "    dW2 = 1 / m  * dZ2.dot(A1.T)\n",
    "    db2 = 1 / m  * np.sum(dZ2)\n",
    "    dZ1 = W2.T.dot(dZ2) * deriv_ReLU(Z1)\n",
    "    dW1 = 1 / m  * dZ1.dot(X.T)\n",
    "    db1 = 1 / m  * np.sum(dZ1) \n",
    "    return dW1, db1, dW2, db2"
   ]
  },
  {
   "cell_type": "code",
   "execution_count": 168,
   "metadata": {},
   "outputs": [],
   "source": [
    "def get_predictions(A2):\n",
    "    return np.argmax(A2,0)\n",
    "    \n",
    "def get_accuracy(predictions, Y):\n",
    "    print(predictions,Y)\n",
    "    return np.sum(predictions==Y)/Y.size"
   ]
  },
  {
   "cell_type": "code",
   "execution_count": 169,
   "metadata": {},
   "outputs": [],
   "source": [
    "def gradient_descent(X, Y, iterations, alpha):\n",
    "    W1, b1, W2, b2 = init_params()\n",
    "    for i in range(iterations):\n",
    "        Z1, A1, Z2, A2 = forward_pass(W1,b1,W2,b2,X)\n",
    "        dW1, dB1, dW2, dB2 = back_prop(Z1,A1,Z2,A2,W1,W2,X,Y)\n",
    "        W1, b1, W2, b2 = update_parameters(W1,b1,W2,b2,dW1,dB1,dW2,dB2,alpha)\n",
    "        if i%10==0:\n",
    "            print(\"iterations:\",i)\n",
    "            predictions=get_predictions(A2)\n",
    "            print(\"Accuracy:\",get_accuracy(predictions, Y))\n",
    "    return W1,b1,W2,b2\n",
    "        "
   ]
  },
  {
   "cell_type": "code",
   "execution_count": 170,
   "metadata": {},
   "outputs": [
    {
     "name": "stdout",
     "output_type": "stream",
     "text": [
      "iterations: 0\n",
      "[1 1 9 ... 1 0 1] [8 6 4 ... 5 0 5]\n",
      "Accuracy: 0.15495121951219512\n",
      "iterations: 10\n",
      "[7 0 4 ... 2 0 7] [8 6 4 ... 5 0 5]\n",
      "Accuracy: 0.2631219512195122\n",
      "iterations: 20\n",
      "[7 0 4 ... 2 0 7] [8 6 4 ... 5 0 5]\n",
      "Accuracy: 0.3201219512195122\n",
      "iterations: 30\n",
      "[7 0 4 ... 2 0 7] [8 6 4 ... 5 0 5]\n",
      "Accuracy: 0.3763170731707317\n",
      "iterations: 40\n",
      "[7 0 4 ... 2 0 7] [8 6 4 ... 5 0 5]\n",
      "Accuracy: 0.43178048780487804\n",
      "iterations: 50\n",
      "[8 1 4 ... 5 0 7] [8 6 4 ... 5 0 5]\n",
      "Accuracy: 0.4899512195121951\n",
      "iterations: 60\n",
      "[8 1 4 ... 5 0 7] [8 6 4 ... 5 0 5]\n",
      "Accuracy: 0.5521219512195122\n",
      "iterations: 70\n",
      "[8 1 4 ... 5 0 7] [8 6 4 ... 5 0 5]\n",
      "Accuracy: 0.5894878048780487\n",
      "iterations: 80\n",
      "[5 1 4 ... 5 0 7] [8 6 4 ... 5 0 5]\n",
      "Accuracy: 0.6201951219512195\n",
      "iterations: 90\n",
      "[8 1 4 ... 5 0 7] [8 6 4 ... 5 0 5]\n",
      "Accuracy: 0.645\n",
      "iterations: 100\n",
      "[8 1 4 ... 5 0 7] [8 6 4 ... 5 0 5]\n",
      "Accuracy: 0.6669756097560976\n",
      "iterations: 110\n",
      "[8 1 4 ... 5 0 7] [8 6 4 ... 5 0 5]\n",
      "Accuracy: 0.684609756097561\n",
      "iterations: 120\n",
      "[8 1 4 ... 5 0 7] [8 6 4 ... 5 0 5]\n",
      "Accuracy: 0.701\n",
      "iterations: 130\n",
      "[8 1 4 ... 5 0 7] [8 6 4 ... 5 0 5]\n",
      "Accuracy: 0.715390243902439\n",
      "iterations: 140\n",
      "[8 1 4 ... 5 0 3] [8 6 4 ... 5 0 5]\n",
      "Accuracy: 0.7262682926829268\n",
      "iterations: 150\n",
      "[8 1 4 ... 5 0 3] [8 6 4 ... 5 0 5]\n",
      "Accuracy: 0.7361951219512195\n",
      "iterations: 160\n",
      "[8 6 4 ... 5 0 3] [8 6 4 ... 5 0 5]\n",
      "Accuracy: 0.7449756097560976\n",
      "iterations: 170\n",
      "[8 6 4 ... 5 0 3] [8 6 4 ... 5 0 5]\n",
      "Accuracy: 0.7531219512195122\n",
      "iterations: 180\n",
      "[8 6 4 ... 5 0 3] [8 6 4 ... 5 0 5]\n",
      "Accuracy: 0.7614878048780488\n",
      "iterations: 190\n",
      "[8 6 4 ... 5 0 3] [8 6 4 ... 5 0 5]\n",
      "Accuracy: 0.7666829268292683\n",
      "iterations: 200\n",
      "[8 6 4 ... 5 0 3] [8 6 4 ... 5 0 5]\n",
      "Accuracy: 0.7723170731707317\n",
      "iterations: 210\n",
      "[8 6 4 ... 5 0 3] [8 6 4 ... 5 0 5]\n",
      "Accuracy: 0.7782926829268293\n",
      "iterations: 220\n",
      "[8 6 4 ... 5 0 3] [8 6 4 ... 5 0 5]\n",
      "Accuracy: 0.7834634146341464\n",
      "iterations: 230\n",
      "[8 6 4 ... 5 0 3] [8 6 4 ... 5 0 5]\n",
      "Accuracy: 0.788609756097561\n",
      "iterations: 240\n",
      "[8 6 4 ... 5 0 3] [8 6 4 ... 5 0 5]\n",
      "Accuracy: 0.7931463414634147\n",
      "iterations: 250\n",
      "[8 6 4 ... 5 0 3] [8 6 4 ... 5 0 5]\n",
      "Accuracy: 0.797\n",
      "iterations: 260\n",
      "[8 6 4 ... 5 0 3] [8 6 4 ... 5 0 5]\n",
      "Accuracy: 0.801219512195122\n",
      "iterations: 270\n",
      "[8 6 4 ... 5 0 3] [8 6 4 ... 5 0 5]\n",
      "Accuracy: 0.8043170731707318\n",
      "iterations: 280\n",
      "[8 6 4 ... 5 0 3] [8 6 4 ... 5 0 5]\n",
      "Accuracy: 0.8073414634146342\n",
      "iterations: 290\n",
      "[8 6 4 ... 5 0 3] [8 6 4 ... 5 0 5]\n",
      "Accuracy: 0.8102682926829269\n",
      "iterations: 300\n",
      "[8 6 4 ... 5 0 3] [8 6 4 ... 5 0 5]\n",
      "Accuracy: 0.8131463414634146\n",
      "iterations: 310\n",
      "[8 6 4 ... 5 0 3] [8 6 4 ... 5 0 5]\n",
      "Accuracy: 0.8154634146341463\n",
      "iterations: 320\n",
      "[8 6 4 ... 5 0 3] [8 6 4 ... 5 0 5]\n",
      "Accuracy: 0.8178536585365853\n",
      "iterations: 330\n",
      "[8 6 4 ... 5 0 3] [8 6 4 ... 5 0 5]\n",
      "Accuracy: 0.8203170731707317\n",
      "iterations: 340\n",
      "[8 6 4 ... 5 0 3] [8 6 4 ... 5 0 5]\n",
      "Accuracy: 0.8224878048780487\n",
      "iterations: 350\n",
      "[8 6 4 ... 5 0 3] [8 6 4 ... 5 0 5]\n",
      "Accuracy: 0.8247317073170731\n",
      "iterations: 360\n",
      "[8 6 4 ... 5 0 3] [8 6 4 ... 5 0 5]\n",
      "Accuracy: 0.8267317073170731\n",
      "iterations: 370\n",
      "[8 6 4 ... 5 0 3] [8 6 4 ... 5 0 5]\n",
      "Accuracy: 0.8287317073170731\n",
      "iterations: 380\n",
      "[8 6 4 ... 5 0 3] [8 6 4 ... 5 0 5]\n",
      "Accuracy: 0.8303170731707317\n",
      "iterations: 390\n",
      "[8 6 4 ... 5 0 3] [8 6 4 ... 5 0 5]\n",
      "Accuracy: 0.832390243902439\n",
      "iterations: 400\n",
      "[8 6 4 ... 5 0 3] [8 6 4 ... 5 0 5]\n",
      "Accuracy: 0.8340731707317073\n",
      "iterations: 410\n",
      "[8 6 4 ... 5 0 3] [8 6 4 ... 5 0 5]\n",
      "Accuracy: 0.8358536585365853\n",
      "iterations: 420\n",
      "[8 6 4 ... 5 0 3] [8 6 4 ... 5 0 5]\n",
      "Accuracy: 0.8372682926829268\n",
      "iterations: 430\n",
      "[8 6 4 ... 5 0 3] [8 6 4 ... 5 0 5]\n",
      "Accuracy: 0.8390243902439024\n",
      "iterations: 440\n",
      "[8 6 4 ... 5 0 3] [8 6 4 ... 5 0 5]\n",
      "Accuracy: 0.8403658536585366\n",
      "iterations: 450\n",
      "[8 6 4 ... 5 0 3] [8 6 4 ... 5 0 5]\n",
      "Accuracy: 0.841390243902439\n",
      "iterations: 460\n",
      "[8 6 4 ... 5 0 3] [8 6 4 ... 5 0 5]\n",
      "Accuracy: 0.842780487804878\n",
      "iterations: 470\n",
      "[8 6 4 ... 5 0 3] [8 6 4 ... 5 0 5]\n",
      "Accuracy: 0.8440487804878049\n",
      "iterations: 480\n",
      "[8 6 4 ... 5 0 3] [8 6 4 ... 5 0 5]\n",
      "Accuracy: 0.8452439024390244\n",
      "iterations: 490\n",
      "[8 6 4 ... 5 0 3] [8 6 4 ... 5 0 5]\n",
      "Accuracy: 0.8463414634146341\n"
     ]
    }
   ],
   "source": [
    "W1,b1,W2,b2= gradient_descent(X_train,Y_train,500,0.10)"
   ]
  },
  {
   "cell_type": "code",
   "execution_count": 171,
   "metadata": {},
   "outputs": [],
   "source": [
    "def make_predictions(X, W1, b1, W2, b2):\n",
    "    _, _, _, A2 = forward_pass(W1, b1, W2, b2, X)\n",
    "    predictions = get_predictions(A2)\n",
    "    return predictions\n",
    "\n",
    "def test_prediction(index, W1, b1, W2, b2):\n",
    "    current_image = X_train[:, index, None]\n",
    "    prediction = make_predictions(X_train[:, index, None], W1, b1, W2, b2)\n",
    "    label = y_train[index]\n",
    "    print(\"Prediction: \", prediction)\n",
    "    print(\"Label: \", label)\n",
    "    \n",
    "    current_image = current_image.reshape((28, 28)) * 255\n",
    "    plt.gray()\n",
    "    plt.imshow(current_image, interpolation='nearest')\n",
    "    plt.show()"
   ]
  },
  {
   "cell_type": "code",
   "execution_count": 172,
   "metadata": {},
   "outputs": [
    {
     "name": "stdout",
     "output_type": "stream",
     "text": [
      "Prediction:  [8]\n",
      "Label:  2\n"
     ]
    },
    {
     "data": {
      "image/png": "[encoded data removed]",
      "text/plain": [
       "<Figure size 640x480 with 1 Axes>"
      ]
     },
     "metadata": {},
     "output_type": "display_data"
    },
    {
     "name": "stdout",
     "output_type": "stream",
     "text": [
      "Prediction:  [6]\n",
      "Label:  2\n"
     ]
    },
    {
     "data": {
      "image/png": "[encoded data removed]",
      "text/plain": [
       "<Figure size 640x480 with 1 Axes>"
      ]
     },
     "metadata": {},
     "output_type": "display_data"
    },
    {
     "name": "stdout",
     "output_type": "stream",
     "text": [
      "Prediction:  [4]\n",
      "Label:  5\n"
     ]
    },
    {
     "data": {
      "image/png": "[encoded data removed]",
      "text/plain": [
       "<Figure size 640x480 with 1 Axes>"
      ]
     },
     "metadata": {},
     "output_type": "display_data"
    },
    {
     "name": "stdout",
     "output_type": "stream",
     "text": [
      "Prediction:  [7]\n",
      "Label:  5\n"
     ]
    },
    {
     "data": {
      "image/png": "[encoded data removed]",
      "text/plain": [
       "<Figure size 640x480 with 1 Axes>"
      ]
     },
     "metadata": {},
     "output_type": "display_data"
    }
   ],
   "source": [
    "test_prediction(0, W1, b1, W2, b2)\n",
    "test_prediction(1, W1, b1, W2, b2)\n",
    "test_prediction(2, W1, b1, W2, b2)\n",
    "test_prediction(3, W1, b1, W2, b2)"
   ]
  }
 ],
 "metadata": {
  "kernelspec": {
   "display_name": "env_athu",
   "language": "python",
   "name": "python3"
  },
  "language_info": {
   "codemirror_mode": {
    "name": "ipython",
    "version": 3
   },
   "file_extension": ".py",
   "mimetype": "text/x-python",
   "name": "python",
   "nbconvert_exporter": "python",
   "pygments_lexer": "ipython3",
   "version": "3.10.0"
  }
 },
 "nbformat": 4,
 "nbformat_minor": 2
}
